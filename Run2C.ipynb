{
 "cells": [
  {
   "cell_type": "code",
   "execution_count": 1,
   "id": "8ce72af4",
   "metadata": {},
   "outputs": [],
   "source": [
    "import joblib\n",
    "import pandas as pd\n",
    "import nltk\n",
    "from nltk.corpus import stopwords\n",
    "from nltk.stem import WordNetLemmatizer\n",
    "from nltk.corpus import wordnet\n",
    "import tensorflow as tf\n",
    "import keras\n",
    "from tensorflow.keras.preprocessing.sequence import pad_sequences\n",
    "import numpy as np\n",
    "\n",
    "\n",
    "vectorizer=joblib.load(r\"C:\\Users\\ANSWEB\\Desktop\\Major Project\\Code\\TFIDF.sav\")\n",
    "\n",
    "decisiontree2c=joblib.load(r\"C:\\Users\\ANSWEB\\Desktop\\Major Project\\Code\\decisiontree2c.sav\")\n",
    "randomforest2c=joblib.load(r\"C:\\Users\\ANSWEB\\Desktop\\Major Project\\Code\\randomforest2c.sav\")\n",
    "bilstm2c=keras.models.load_model(r\"C:\\Users\\ANSWEB\\Desktop\\Major Project\\Code\\bilstm2c.keras\")\n",
    "\n",
    "tokenizer2c=joblib.load(r\"C:\\Users\\ANSWEB\\Desktop\\Major Project\\Code\\TOKENIZER2C.sav\")"
   ]
  },
  {
   "cell_type": "code",
   "execution_count": 2,
   "id": "4b4ca39a",
   "metadata": {},
   "outputs": [],
   "source": [
    "stop_words = set(stopwords.words('english'))\n",
    "punctuation_pattern = '[!\"$%&\\'()*+,-./:;<=>?[\\\\]^_`{|}~]'\n",
    "lemmatizer = WordNetLemmatizer()\n",
    "\n",
    "def senti_predict_2C(input_text):\n",
    "    def text_clean(x) :\n",
    "        # remove newline and carriage return\n",
    "        x = x.replace('\\n', ' ').replace('\\r', '')\n",
    "        # remove the links\n",
    "        x = nltk.re.sub(r'http:\\S+|https:\\S+|www\\S+', '', x)\n",
    "        # remove punctuation marks and emoticons \n",
    "        x = nltk.re.sub(punctuation_pattern, '', x)\n",
    "        words = x.split(' ')\n",
    "        temp = []\n",
    "\n",
    "        for word in words :\n",
    "            word=word.lower()\n",
    "            if (word not in stop_words) and (not word.isnumeric()) and (not word.startswith('@')):\n",
    "                if word.startswith('#'):\n",
    "                    temp.append(word[1:])\n",
    "                else:\n",
    "                    temp.append(word)\n",
    "\n",
    "        return ' '.join(temp)\n",
    "\n",
    "\n",
    "    def lemm(text):\n",
    "\n",
    "        # Tokenize the text into words\n",
    "        tokens = nltk.word_tokenize(text)\n",
    "\n",
    "        # Lemmatize each word\n",
    "        lemmatized_words = []\n",
    "        for token in tokens:\n",
    "            # Get the part-of-speech (POS) tag to improve lemmatization accuracy\n",
    "            pos_tag = nltk.pos_tag([token])[0][1]\n",
    "            pos = wordnet.VERB if pos_tag.startswith('V') else wordnet.NOUN if pos_tag.startswith('N') else wordnet.ADJ if pos_tag.startswith('J') else wordnet.ADV\n",
    "            lemma = lemmatizer.lemmatize(token, pos=pos)\n",
    "            lemmatized_words.append(lemma)\n",
    "\n",
    "        # Join the lemmatized words back into a sentence\n",
    "        lemmatized_text = ' '.join(lemmatized_words)\n",
    "\n",
    "        return lemmatized_text\n",
    "\n",
    "    text=text_clean(input_text)\n",
    "    text=lemm(text)\n",
    "\n",
    "    vectors = vectorizer.transform([text])\n",
    "    feature_names = vectorizer.get_feature_names_out()\n",
    "    dense = vectors.todense()\n",
    "    denselist = dense.tolist()\n",
    "    df = pd.DataFrame(denselist, columns=feature_names)\n",
    "\n",
    "    tk = tokenizer2c.texts_to_sequences(text)\n",
    "    tk = pad_sequences(tk, maxlen=100, padding='post')\n",
    "    dict={}\n",
    "    \n",
    "    dict['BiLSTM2C'] = bilstm2c.predict(tk)[0]\n",
    "    \n",
    "    dict['RandomForest2C'] = randomforest2c.predict(df)[0]\n",
    "\n",
    "    dict['DecisionTree2C'] = decisiontree2c.predict(df)[0]\n",
    "    \n",
    "    return dict"
   ]
  },
  {
   "cell_type": "code",
   "execution_count": 6,
   "id": "9e0d2448",
   "metadata": {},
   "outputs": [
    {
     "name": "stdout",
     "output_type": "stream",
     "text": [
      "<function senti_predict_2C at 0x000002029A595120> Negative\n",
      "1/1 [==============================] - 0s 30ms/step\n",
      "{'BiLSTM2C': array([0.9968641 , 0.00371791], dtype=float32), 'RandomForest2C': 'Negative', 'DecisionTree2C': 'Negative'}\n"
     ]
    }
   ],
   "source": [
    "test=\"covid is bad and dangerous\"\n",
    "category=['Negative','Positive']\n",
    "print(senti_predict_2C, category[np.argmax(senti_predict_2C)])\n",
    "print(senti_predict_2C(test))"
   ]
  }
 ],
 "metadata": {
  "kernelspec": {
   "display_name": "Python 3 (ipykernel)",
   "language": "python",
   "name": "python3"
  },
  "language_info": {
   "codemirror_mode": {
    "name": "ipython",
    "version": 3
   },
   "file_extension": ".py",
   "mimetype": "text/x-python",
   "name": "python",
   "nbconvert_exporter": "python",
   "pygments_lexer": "ipython3",
   "version": "3.11.3"
  }
 },
 "nbformat": 4,
 "nbformat_minor": 5
}
