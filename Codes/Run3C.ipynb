{
 "cells": [
  {
   "cell_type": "code",
   "execution_count": 2,
   "id": "43b0a725",
   "metadata": {},
   "outputs": [],
   "source": [
    "import joblib\n",
    "import pandas as pd\n",
    "import nltk\n",
    "from nltk.corpus import stopwords\n",
    "from nltk.stem import WordNetLemmatizer\n",
    "from nltk.corpus import wordnet\n",
    "import tensorflow as tf\n",
    "import keras\n",
    "from tensorflow.keras.preprocessing.sequence import pad_sequences\n",
    "import numpy as np\n",
    "\n",
    "\n",
    "vectorizer=joblib.load(r\"C:\\Users\\ANSWEB\\Desktop\\Major Project\\Code\\TFIDF.sav\")\n",
    "\n",
    "tokenizer3c=joblib.load(r\"C:\\Users\\ANSWEB\\Desktop\\Major Project\\Code\\TOKENIZER3C.sav\")\n",
    "\n",
    "decisiontree3c=joblib.load(r\"C:\\Users\\ANSWEB\\Desktop\\Major Project\\Code\\decisiontree3c.sav\")\n",
    "randomforest3c=joblib.load(r\"C:\\Users\\ANSWEB\\Desktop\\Major Project\\Code\\randomforest3c.sav\")\n",
    "bilstm3c=keras.models.load_model(r\"C:\\Users\\ANSWEB\\Desktop\\Major Project\\Code\\bilstm3c.keras\")\n",
    "\n",
    "#decisiontree5c=joblib.load(r\"C:\\Users\\ANSWEB\\Desktop\\Major Project\\Code\\decisiontree5c.sav\")\n",
    "#randomforest5c=joblib.load(r\"C:\\Users\\ANSWEB\\Desktop\\Major Project\\Code\\randomforest5c.sav\")\n",
    "#bilstm5c=keras.models.load_model(r\"C:\\Users\\ANSWEB\\Desktop\\Major Project\\Code\\bilstm5c.keras\")"
   ]
  },
  {
   "cell_type": "code",
   "execution_count": 3,
   "id": "4b4ca39a",
   "metadata": {},
   "outputs": [],
   "source": [
    "stop_words = set(stopwords.words('english'))\n",
    "punctuation_pattern = '[!\"$%&\\'()*+,-./:;<=>?[\\\\]^_`{|}~]'\n",
    "lemmatizer = WordNetLemmatizer()\n",
    "\n",
    "def senti_predict_3C(input_text):\n",
    "    def text_clean(x) :\n",
    "        # remove newline and carriage return\n",
    "        x = x.replace('\\n', ' ').replace('\\r', '')\n",
    "        # remove the links\n",
    "        x = nltk.re.sub(r'http:\\S+|https:\\S+|www\\S+', '', x)\n",
    "        # remove punctuation marks and emoticons \n",
    "        x = nltk.re.sub(punctuation_pattern, '', x)\n",
    "        words = x.split(' ')\n",
    "        temp = []\n",
    "\n",
    "        for word in words :\n",
    "            word=word.lower()\n",
    "            if (word not in stop_words) and (not word.isnumeric()) and (not word.startswith('@')):\n",
    "                if word.startswith('#'):\n",
    "                    temp.append(word[1:])\n",
    "                else:\n",
    "                    temp.append(word)\n",
    "\n",
    "        return ' '.join(temp)\n",
    "\n",
    "\n",
    "    def lemm(text):\n",
    "\n",
    "        # Tokenize the text into words\n",
    "        tokens = nltk.word_tokenize(text)\n",
    "\n",
    "        # Lemmatize each word\n",
    "        lemmatized_words = []\n",
    "        for token in tokens:\n",
    "            # Get the part-of-speech (POS) tag to improve lemmatization accuracy\n",
    "            pos_tag = nltk.pos_tag([token])[0][1]\n",
    "            pos = wordnet.VERB if pos_tag.startswith('V') else wordnet.NOUN if pos_tag.startswith('N') else wordnet.ADJ if pos_tag.startswith('J') else wordnet.ADV\n",
    "            lemma = lemmatizer.lemmatize(token, pos=pos)\n",
    "            lemmatized_words.append(lemma)\n",
    "\n",
    "        # Join the lemmatized words back into a sentence\n",
    "        lemmatized_text = ' '.join(lemmatized_words)\n",
    "\n",
    "        return lemmatized_text\n",
    "\n",
    "    text=text_clean(input_text)\n",
    "    text=lemm(text)\n",
    "\n",
    "    vectors = vectorizer.transform([text])\n",
    "    feature_names = vectorizer.get_feature_names_out()\n",
    "    dense = vectors.todense()\n",
    "    denselist = dense.tolist()\n",
    "    df = pd.DataFrame(denselist, columns=feature_names)\n",
    "\n",
    "    tk = tokenizer3c.texts_to_sequences(text)\n",
    "    tk = pad_sequences(tk, maxlen=100, padding='post')\n",
    "    dict={}\n",
    "    \n",
    "    dict['BiLSTM3C'] = bilstm3c.predict(tk)[0]\n",
    "    \n",
    "    dict['RandomForest3C'] = randomforest3c.predict(df)[0]\n",
    "\n",
    "    dict['DecisionTree3C'] = decisiontree3c.predict(df)[0]\n",
    "    \n",
    "    return dict"
   ]
  },
  {
   "cell_type": "code",
   "execution_count": 5,
   "id": "9e0d2448",
   "metadata": {},
   "outputs": [
    {
     "name": "stdout",
     "output_type": "stream",
     "text": [
      "<function senti_predict_3C at 0x000002146239D1C0> Negative\n",
      "1/1 [==============================] - 0s 25ms/step\n",
      "{'BiLSTM3C': array([0.01005023, 0.9837    , 0.00624984], dtype=float32), 'RandomForest3C': 'Negative', 'DecisionTree3C': 'Negative'}\n"
     ]
    }
   ],
   "source": [
    "test=\"covid is really dangerous\"\n",
    "category=['Negative','Neutral','Positive']\n",
    "print(senti_predict_3C, category[np.argmax(senti_predict_3C)])\n",
    "print(senti_predict_3C(test))"
   ]
  },
  {
   "cell_type": "code",
   "execution_count": null,
   "id": "c88a2867",
   "metadata": {},
   "outputs": [],
   "source": []
  }
 ],
 "metadata": {
  "kernelspec": {
   "display_name": "Python 3 (ipykernel)",
   "language": "python",
   "name": "python3"
  },
  "language_info": {
   "codemirror_mode": {
    "name": "ipython",
    "version": 3
   },
   "file_extension": ".py",
   "mimetype": "text/x-python",
   "name": "python",
   "nbconvert_exporter": "python",
   "pygments_lexer": "ipython3",
   "version": "3.11.3"
  }
 },
 "nbformat": 4,
 "nbformat_minor": 5
}
